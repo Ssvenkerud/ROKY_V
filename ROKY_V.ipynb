{
 "cells": [
  {
   "cell_type": "markdown",
   "metadata": {},
   "source": [
    "# ROKY V\n",
    "By Simen Svenkerud\n",
    "\n",
    "Version: 1.0\n",
    "Date: 2018.12.21\n",
    "\n",
    "## Introduction\n",
    "\n",
    "### Purpose\n",
    "\n",
    "### Descriptions\n",
    "\n"
   ]
  },
  {
   "cell_type": "code",
   "execution_count": null,
   "metadata": {
    "collapsed": true
   },
   "outputs": [],
   "source": [
    "# Load packages\n",
    "from pyspark.sql import SparkSession\n",
    "from pyspark.sql.types import *\n",
    "from pyspark.sql import SQLContext\n",
    "from pyspark.sql import window\n",
    "from pyspark.sql.functions import broadcast\n",
    "import pyspark.functions as F\n"
   ]
  },
  {
   "cell_type": "code",
   "execution_count": null,
   "metadata": {
    "collapsed": true
   },
   "outputs": [],
   "source": [
    "spark = SparkSession.builder.appName('ROKY_V')\\\n",
    "                    .config('spark.executer.memory', '12g')\\\n",
    "                    .config('spark.executer.cores', 6)\\\n",
    "                    .getOrCreate()"
   ]
  },
  {
   "cell_type": "markdown",
   "metadata": {},
   "source": [
    "### Set the base variables"
   ]
  },
  {
   "cell_type": "code",
   "execution_count": null,
   "metadata": {
    "collapsed": true
   },
   "outputs": [],
   "source": [
    "Import_Location = ''\n",
    "Output = ''\n",
    "\n",
    "Data_Start = ''\n",
    "FA_Instrument_Select = ''"
   ]
  },
  {
   "cell_type": "markdown",
   "metadata": {},
   "source": [
    "### Set the Column parameters\n",
    "In the section below enter the column names used in the data set itself. "
   ]
  },
  {
   "cell_type": "code",
   "execution_count": null,
   "metadata": {
    "collapsed": true
   },
   "outputs": [],
   "source": [
    "FA_Instrument = ''\n",
    "ID = ''\n",
    "Quarter = ''\n",
    "Sector = ''\n",
    "Name = ''\n",
    "Shares_Outstanding = ''\n",
    "Price = ''\n",
    "Exchange_Rate = ''"
   ]
  },
  {
   "cell_type": "markdown",
   "metadata": {},
   "source": [
    "### Load financial data set to be processed"
   ]
  },
  {
   "cell_type": "code",
   "execution_count": null,
   "metadata": {
    "collapsed": true
   },
   "outputs": [],
   "source": [
    "Data = spark.read.format('Parquet')\\\n",
    "                 .option('header', 'true')\\\n",
    "                 .option('inferSchema', 'true')\\\n",
    "                 .load(Import_Location)\\\n",
    "                 .filter(F.col(FA_Instrument) == FA_Instrument_Select)\\\n",
    "                 .repartition(F.col(ID))\\\n",
    "                 .select(F.col(ID),\n",
    "                         F.col(Quarter),\n",
    "                         F.col(Sector),\n",
    "                         F.col(Name),\n",
    "                         F.col(Shares_Outstanding),\n",
    "                         F.col(Price),\n",
    "                         F.col(Exchange_Rate)\n",
    "                        )"
   ]
  },
  {
   "cell_type": "code",
   "execution_count": null,
   "metadata": {
    "collapsed": true
   },
   "outputs": [],
   "source": [
    "delta = Window.partitionedBy(F.col(ID)).orderBy(F.col(Quarter))"
   ]
  },
  {
   "cell_type": "markdown",
   "metadata": {},
   "source": [
    "### Processing of the data"
   ]
  },
  {
   "cell_type": "code",
   "execution_count": null,
   "metadata": {
    "collapsed": true
   },
   "outputs": [],
   "source": [
    "df1 = Data.orderBy(F.col(Quarter))\\\n",
    "            .select('*', F.lag(Shares_Outstanding).over(delta).alias('Shares_Outstanding_Lag'),\n",
    "                         F.lag(Price).over(delta).alias('Price_Lag'),\n",
    "                         F.lag(Exchange_Rate).over(delta).alias('Exchange_Rate_Lag'))\\\n",
    "            .fillna({Shares_Outstanding : 0.0})\\\n",
    "            .fillna({'Shares_Outstanding_Lag' : 0.0})\\\n",
    "            .fillna({'Price_Lag' : 0.0})\\\n",
    "            .fillna({'Exchange_Rate_Lag' : 0.0})"
   ]
  },
  {
   "cell_type": "code",
   "execution_count": null,
   "metadata": {
    "collapsed": true
   },
   "outputs": [],
   "source": [
    "df2 = df1.withColumn('Net_Transactions', F.col(Shares_Outstanding) - F.col('Shares_Outstanding_Lag'))\\\n",
    "         .withColumn('Balance', F.col(Shares_Outstanding) * F.col(Price))\\\n",
    "         .withColumn('Delta_Price', F.col(Price) - F.col('Price_Lag'))\\\n",
    "         .withColumn('Delta_Exchange_rate', F.col(Exchange_Rate) - F.col('Exchange_Rate_Lag'))\\\n",
    "         .withColumn('Mean_price', ((F.col(Price) + F.col('Price_Lag'))/2)\\\n",
    "         .withColumn('Mean_Exchange_rate', ((F.col(Exchange_Rate) + F.col('Exchange_Rate_Lag'))/2)\\\n",
    "         .select('*', F.lag('Balance').over(delta).alias('Balance_Lag'))\\\n",
    "         .fillna({'Balance_Lag' : 0.0 })"
   ]
  },
  {
   "cell_type": "code",
   "execution_count": null,
   "metadata": {
    "collapsed": true
   },
   "outputs": [],
   "source": [
    "df3 = df2.withColumn('Transactions_Value', F.col(Net_Transactions) * F.col('Mean_price'))\\\n",
    "         .withColumn('Market_FX_Effect', (((F.col(Exchange_Rate)/F.col('Exchange_Rate_Lag'))*F.col('Balance_Lag'))+((F.col(Exchange_Rate)/F.col('Mean_Exchange_rate'))*F.col('Transaction_Value'))))\\\n",
    "         .withColumn('Market_Price_Effect', ((F.col(Shares_Outstanding)-F.col('Net_Transaction'))*(F.col(Price)-F.col('Price_Lag'))+(F.col('Net_Transaction')*(F.col(Price)-F.col('Mean_price')))-F.col('Market_FX_Effect')))\\\n",
    "         .withColumn('Other_Changes_Volumne',(F.col('Balance')-F.col('Balance_Lag')-F.col('Market_Price_Effect')-F.col('Market_FX_Effect')-F.col('Transactions_Value')))\\\n",
    "         .withColumn('pct_OVC', ((F.col('Balance')-F.col('Balance_Lag')-F.col('Market_Price_Effect')-F.col('Market_FX_Effect')-F.col('Transactions_Value'))/(F.col('Balance'))))\\\n",
    "         .drop('Shares_Outstanding_Lag',\n",
    "               'Price_Lag',\n",
    "               'Exchange_Rate_Lag',\n",
    "               'Delta_Price',\n",
    "               'Delta_Exchange_rate',\n",
    "               'Mean_price',\n",
    "               'Mean_Exchange_rate',\n",
    "               'Balance_Lag'\n",
    "              )"
   ]
  },
  {
   "cell_type": "code",
   "execution_count": null,
   "metadata": {
    "collapsed": true
   },
   "outputs": [],
   "source": [
    "df4 = df3.filter(F.col(Quarter)>= Data_Start)\\\n",
    "         .groupBy([F.col(Quarter),F.col(Sector)])\\\n",
    "         .agg(F.sum(F.col(Shares_Outstanding)).alias('Shares_Outstanding'),\n",
    "              F.sum(F.col('Net_Transaction')).alias('Net_Transaction'),\n",
    "              F.sum(F.col('Balance')).alias('Balance'),\n",
    "              F.mean(F.col(Price)).alias('Price'),\n",
    "              F.sum(F.col('Transaction_Value')).alias('Transaction_Value'),\n",
    "              F.sum(F.col('Market_FX_Effect')).alias('Market_FX_Effect'),\n",
    "              F.sum(F.col('Market_Price_Effect')).alias('Market_Price_Effect'),\n",
    "              F.sum(F.col('Other_Changes_Volumne')).alias('Other_Changes_Volumne'),\n",
    "              F.mean(F.col('pct_OVC')).alias('pct_OVC')\n",
    "             )"
   ]
  },
  {
   "cell_type": "markdown",
   "metadata": {},
   "source": [
    "### Export the by ID dataset"
   ]
  },
  {
   "cell_type": "code",
   "execution_count": null,
   "metadata": {
    "collapsed": true
   },
   "outputs": [],
   "source": [
    "df3.orderBy(F.col(ID), F.col(Quarter)).repartition(1).write.csv.(Output+FA_Instrument_Select+'By_ID_Roky_V.csv', header = 'true', mode = 'Overwrite')"
   ]
  },
  {
   "cell_type": "markdown",
   "metadata": {},
   "source": [
    "### Export the by Sector dataset"
   ]
  },
  {
   "cell_type": "code",
   "execution_count": null,
   "metadata": {
    "collapsed": true
   },
   "outputs": [],
   "source": [
    "df4.orderBy(F.col(Quarter)).repartition(1).write.csv.(Output+FA_Instrument_Select+'By_Sector_Roky_V.csv', header = 'true', mode = 'Overwrite')"
   ]
  },
  {
   "cell_type": "markdown",
   "metadata": {},
   "source": [
    "# Data Visualisation\n",
    "\n",
    "## Summary of values"
   ]
  },
  {
   "cell_type": "code",
   "execution_count": null,
   "metadata": {
    "collapsed": true
   },
   "outputs": [],
   "source": []
  },
  {
   "cell_type": "code",
   "execution_count": null,
   "metadata": {
    "collapsed": true
   },
   "outputs": [],
   "source": []
  },
  {
   "cell_type": "code",
   "execution_count": null,
   "metadata": {
    "collapsed": true
   },
   "outputs": [],
   "source": []
  },
  {
   "cell_type": "code",
   "execution_count": null,
   "metadata": {
    "collapsed": true
   },
   "outputs": [],
   "source": []
  },
  {
   "cell_type": "code",
   "execution_count": null,
   "metadata": {
    "collapsed": true
   },
   "outputs": [],
   "source": []
  },
  {
   "cell_type": "code",
   "execution_count": null,
   "metadata": {
    "collapsed": true
   },
   "outputs": [],
   "source": []
  }
 ],
 "metadata": {
  "kernelspec": {
   "display_name": "Python 3",
   "language": "python",
   "name": "python3"
  },
  "language_info": {
   "codemirror_mode": {
    "name": "ipython",
    "version": 3
   },
   "file_extension": ".py",
   "mimetype": "text/x-python",
   "name": "python",
   "nbconvert_exporter": "python",
   "pygments_lexer": "ipython3",
   "version": "3.6.1"
  }
 },
 "nbformat": 4,
 "nbformat_minor": 2
}
